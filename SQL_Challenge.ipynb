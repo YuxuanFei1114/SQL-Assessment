{
  "nbformat": 4,
  "nbformat_minor": 0,
  "metadata": {
    "colab": {
      "provenance": []
    },
    "kernelspec": {
      "name": "python3",
      "display_name": "Python 3"
    },
    "language_info": {
      "name": "python"
    }
  },
  "cells": [
    {
      "cell_type": "markdown",
      "source": [
        "## Load Data\n",
        "The data can be retrived from github."
      ],
      "metadata": {
        "id": "YAsKySlvJ743"
      }
    },
    {
      "cell_type": "code",
      "source": [
        "!wget https://raw.githubusercontent.com/AgencyPMG/ProgrammingChallenges/master/sql-assessment/marketing_data.csv"
      ],
      "metadata": {
        "colab": {
          "base_uri": "https://localhost:8080/"
        },
        "id": "vgmw16lKJL28",
        "outputId": "4a301a9c-9301-4bc8-e492-a9bf3d997c2b"
      },
      "execution_count": 1,
      "outputs": [
        {
          "output_type": "stream",
          "name": "stdout",
          "text": [
            "--2022-12-15 20:54:41--  https://raw.githubusercontent.com/AgencyPMG/ProgrammingChallenges/master/sql-assessment/marketing_data.csv\n",
            "Resolving raw.githubusercontent.com (raw.githubusercontent.com)... 185.199.108.133, 185.199.109.133, 185.199.110.133, ...\n",
            "Connecting to raw.githubusercontent.com (raw.githubusercontent.com)|185.199.108.133|:443... connected.\n",
            "HTTP request sent, awaiting response... 200 OK\n",
            "Length: 655 [text/plain]\n",
            "Saving to: ‘marketing_data.csv.1’\n",
            "\n",
            "\rmarketing_data.csv.   0%[                    ]       0  --.-KB/s               \rmarketing_data.csv. 100%[===================>]     655  --.-KB/s    in 0s      \n",
            "\n",
            "2022-12-15 20:54:42 (14.0 MB/s) - ‘marketing_data.csv.1’ saved [655/655]\n",
            "\n"
          ]
        }
      ]
    },
    {
      "cell_type": "code",
      "source": [
        "!wget https://raw.githubusercontent.com/AgencyPMG/ProgrammingChallenges/master/sql-assessment/store_revenue.csv"
      ],
      "metadata": {
        "colab": {
          "base_uri": "https://localhost:8080/"
        },
        "id": "GU-lt4hrKJIG",
        "outputId": "6457795c-3375-4f6a-af0c-077983fecca4"
      },
      "execution_count": 2,
      "outputs": [
        {
          "output_type": "stream",
          "name": "stdout",
          "text": [
            "--2022-12-15 20:54:42--  https://raw.githubusercontent.com/AgencyPMG/ProgrammingChallenges/master/sql-assessment/store_revenue.csv\n",
            "Resolving raw.githubusercontent.com (raw.githubusercontent.com)... 185.199.108.133, 185.199.109.133, 185.199.110.133, ...\n",
            "Connecting to raw.githubusercontent.com (raw.githubusercontent.com)|185.199.108.133|:443... connected.\n",
            "HTTP request sent, awaiting response... 200 OK\n",
            "Length: 1372 (1.3K) [text/plain]\n",
            "Saving to: ‘store_revenue.csv.1’\n",
            "\n",
            "\rstore_revenue.csv.1   0%[                    ]       0  --.-KB/s               \rstore_revenue.csv.1 100%[===================>]   1.34K  --.-KB/s    in 0s      \n",
            "\n",
            "2022-12-15 20:54:42 (6.05 MB/s) - ‘store_revenue.csv.1’ saved [1372/1372]\n",
            "\n"
          ]
        }
      ]
    },
    {
      "cell_type": "markdown",
      "source": [
        "## Import CSV into SQLite\n",
        "\n",
        "Prior to working with the data in SQL, we will need to import it into the database. We achieve this by reading the data first into Python using `pandas` and, then, using the `.to_sql()` export handler to write the data as a table into the database."
      ],
      "metadata": {
        "id": "Xw55MFKBKUQ2"
      }
    },
    {
      "cell_type": "code",
      "source": [
        "import pandas as pd \n",
        "\n",
        "df1 = pd.read_csv(\"marketing_data.csv\")\n",
        "df2 = pd.read_csv(\"store_revenue.csv\")"
      ],
      "metadata": {
        "id": "icb1D-e2KX_E"
      },
      "execution_count": 3,
      "outputs": []
    },
    {
      "cell_type": "code",
      "source": [
        "from sqlalchemy import create_engine\n",
        "engine = create_engine('sqlite:///assessment.db', echo=False)\n",
        "\n",
        "# Create the X table in the sqlite database\n",
        "df1.to_sql('marketing_data', index = False, if_exists = 'replace', con=engine)\n",
        "\n",
        "# Create the Y table in the sqlite database\n",
        "df2.to_sql('store_revenue', index = False, if_exists = 'replace', con=engine)"
      ],
      "metadata": {
        "id": "lTrtAm4qaz-M"
      },
      "execution_count": 4,
      "outputs": []
    },
    {
      "cell_type": "code",
      "source": [
        "%load_ext sql\n",
        "%sql sqlite:///assessment.db"
      ],
      "metadata": {
        "colab": {
          "base_uri": "https://localhost:8080/",
          "height": 35
        },
        "id": "ayTdHtYyWfNA",
        "outputId": "1ee5a5e3-38fe-46b2-bb40-9d84a5355b29"
      },
      "execution_count": 5,
      "outputs": [
        {
          "output_type": "execute_result",
          "data": {
            "text/plain": [
              "'Connected: @assessment.db'"
            ],
            "application/vnd.google.colaboratory.intrinsic+json": {
              "type": "string"
            }
          },
          "metadata": {},
          "execution_count": 5
        }
      ]
    },
    {
      "cell_type": "markdown",
      "source": [
        "## Question 0\n",
        "(Already done for you as an example) Select the first 2 rows from the marketing data​"
      ],
      "metadata": {
        "id": "0PcXZ90hW5Dt"
      }
    },
    {
      "cell_type": "code",
      "source": [
        "%%sql\n",
        "\n",
        "select * from marketing_data limit 2;"
      ],
      "metadata": {
        "colab": {
          "base_uri": "https://localhost:8080/",
          "height": 119
        },
        "id": "uSBF0FWHXDDS",
        "outputId": "caf7d721-59fe-45a9-a6cd-99bff5498b60"
      },
      "execution_count": 6,
      "outputs": [
        {
          "output_type": "stream",
          "name": "stdout",
          "text": [
            " * sqlite:///assessment.db\n",
            "Done.\n"
          ]
        },
        {
          "output_type": "execute_result",
          "data": {
            "text/plain": [
              "[('2016-01-01', 'TX', 2532, 45), ('2016-01-01', 'CA', 3425, 63)]"
            ],
            "text/html": [
              "<table>\n",
              "    <thead>\n",
              "        <tr>\n",
              "            <th>date</th>\n",
              "            <th>geo</th>\n",
              "            <th>impressions</th>\n",
              "            <th>clicks</th>\n",
              "        </tr>\n",
              "    </thead>\n",
              "    <tbody>\n",
              "        <tr>\n",
              "            <td>2016-01-01</td>\n",
              "            <td>TX</td>\n",
              "            <td>2532</td>\n",
              "            <td>45</td>\n",
              "        </tr>\n",
              "        <tr>\n",
              "            <td>2016-01-01</td>\n",
              "            <td>CA</td>\n",
              "            <td>3425</td>\n",
              "            <td>63</td>\n",
              "        </tr>\n",
              "    </tbody>\n",
              "</table>"
            ]
          },
          "metadata": {},
          "execution_count": 6
        }
      ]
    },
    {
      "cell_type": "markdown",
      "source": [
        "## Question 1\n",
        "\n",
        "Generate a query to get the sum of the clicks of the marketing data​"
      ],
      "metadata": {
        "id": "IypPXSaseRaw"
      }
    },
    {
      "cell_type": "code",
      "source": [
        "%%sql\n",
        "\n",
        "SELECT SUM(clicks) AS sum_clicks\n",
        "FROM marketing_data"
      ],
      "metadata": {
        "colab": {
          "base_uri": "https://localhost:8080/",
          "height": 98
        },
        "id": "-JNzmt8GeNJ6",
        "outputId": "52b0edfc-7a36-4c33-98e9-a1b742cd1836"
      },
      "execution_count": 7,
      "outputs": [
        {
          "output_type": "stream",
          "name": "stdout",
          "text": [
            " * sqlite:///assessment.db\n",
            "Done.\n"
          ]
        },
        {
          "output_type": "execute_result",
          "data": {
            "text/plain": [
              "[(1792,)]"
            ],
            "text/html": [
              "<table>\n",
              "    <thead>\n",
              "        <tr>\n",
              "            <th>sum_clicks</th>\n",
              "        </tr>\n",
              "    </thead>\n",
              "    <tbody>\n",
              "        <tr>\n",
              "            <td>1792</td>\n",
              "        </tr>\n",
              "    </tbody>\n",
              "</table>"
            ]
          },
          "metadata": {},
          "execution_count": 7
        }
      ]
    },
    {
      "cell_type": "markdown",
      "source": [
        "## Question 2 \n",
        "Generate a query to gather the sum of revenue by store_location from the store_revenue table​"
      ],
      "metadata": {
        "id": "KICJfulT_4Qk"
      }
    },
    {
      "cell_type": "code",
      "source": [
        "%%sql\n",
        "\n",
        "SELECT store_location, SUM(revenue) AS sum_revenue\n",
        "FROM store_revenue\n",
        "GROUP BY store_location"
      ],
      "metadata": {
        "colab": {
          "base_uri": "https://localhost:8080/",
          "height": 140
        },
        "id": "Pk-aEzXM__Fi",
        "outputId": "34083f68-9e6c-4c1c-ab18-24d52f4c755e"
      },
      "execution_count": 8,
      "outputs": [
        {
          "output_type": "stream",
          "name": "stdout",
          "text": [
            " * sqlite:///assessment.db\n",
            "Done.\n"
          ]
        },
        {
          "output_type": "execute_result",
          "data": {
            "text/plain": [
              "[('United States-CA', 235237),\n",
              " ('United States-NY', 51984),\n",
              " ('United States-TX', 9629)]"
            ],
            "text/html": [
              "<table>\n",
              "    <thead>\n",
              "        <tr>\n",
              "            <th>store_location</th>\n",
              "            <th>sum_revenue</th>\n",
              "        </tr>\n",
              "    </thead>\n",
              "    <tbody>\n",
              "        <tr>\n",
              "            <td>United States-CA</td>\n",
              "            <td>235237</td>\n",
              "        </tr>\n",
              "        <tr>\n",
              "            <td>United States-NY</td>\n",
              "            <td>51984</td>\n",
              "        </tr>\n",
              "        <tr>\n",
              "            <td>United States-TX</td>\n",
              "            <td>9629</td>\n",
              "        </tr>\n",
              "    </tbody>\n",
              "</table>"
            ]
          },
          "metadata": {},
          "execution_count": 8
        }
      ]
    },
    {
      "cell_type": "markdown",
      "source": [
        "## Question 3 \n",
        "Merge these two datasets so we can see impressions, clicks, and revenue together by date and geo. Please ensure all records from each table are accounted for.​"
      ],
      "metadata": {
        "id": "8kF6HJ8dAgZE"
      }
    },
    {
      "cell_type": "markdown",
      "source": [
        "Firstly, we need to check the columns in those two tables."
      ],
      "metadata": {
        "id": "ZNPYMKJdX2-i"
      }
    },
    {
      "cell_type": "code",
      "source": [
        "%%sql\n",
        "\n",
        "SELECT * FROM marketing_data LIMIT 5"
      ],
      "metadata": {
        "colab": {
          "base_uri": "https://localhost:8080/",
          "height": 183
        },
        "id": "bIJlKdLAYM-l",
        "outputId": "78188f35-f86d-436e-fe18-9632a8238833"
      },
      "execution_count": 9,
      "outputs": [
        {
          "output_type": "stream",
          "name": "stdout",
          "text": [
            " * sqlite:///assessment.db\n",
            "Done.\n"
          ]
        },
        {
          "output_type": "execute_result",
          "data": {
            "text/plain": [
              "[('2016-01-01', 'TX', 2532, 45),\n",
              " ('2016-01-01', 'CA', 3425, 63),\n",
              " ('2016-01-01', 'NY', 3532, 25),\n",
              " ('2016-01-01', 'MN', 1342, 784),\n",
              " ('2016-01-02', 'TX', 3643, 23)]"
            ],
            "text/html": [
              "<table>\n",
              "    <thead>\n",
              "        <tr>\n",
              "            <th>date</th>\n",
              "            <th>geo</th>\n",
              "            <th>impressions</th>\n",
              "            <th>clicks</th>\n",
              "        </tr>\n",
              "    </thead>\n",
              "    <tbody>\n",
              "        <tr>\n",
              "            <td>2016-01-01</td>\n",
              "            <td>TX</td>\n",
              "            <td>2532</td>\n",
              "            <td>45</td>\n",
              "        </tr>\n",
              "        <tr>\n",
              "            <td>2016-01-01</td>\n",
              "            <td>CA</td>\n",
              "            <td>3425</td>\n",
              "            <td>63</td>\n",
              "        </tr>\n",
              "        <tr>\n",
              "            <td>2016-01-01</td>\n",
              "            <td>NY</td>\n",
              "            <td>3532</td>\n",
              "            <td>25</td>\n",
              "        </tr>\n",
              "        <tr>\n",
              "            <td>2016-01-01</td>\n",
              "            <td>MN</td>\n",
              "            <td>1342</td>\n",
              "            <td>784</td>\n",
              "        </tr>\n",
              "        <tr>\n",
              "            <td>2016-01-02</td>\n",
              "            <td>TX</td>\n",
              "            <td>3643</td>\n",
              "            <td>23</td>\n",
              "        </tr>\n",
              "    </tbody>\n",
              "</table>"
            ]
          },
          "metadata": {},
          "execution_count": 9
        }
      ]
    },
    {
      "cell_type": "code",
      "source": [
        "%%sql\n",
        "\n",
        "SELECT * FROM store_revenue LIMIT 5"
      ],
      "metadata": {
        "colab": {
          "base_uri": "https://localhost:8080/",
          "height": 183
        },
        "id": "eMYS0D-fYUy1",
        "outputId": "b050d1f1-5bd8-47ec-a3d9-57da7ddeabb5"
      },
      "execution_count": 10,
      "outputs": [
        {
          "output_type": "stream",
          "name": "stdout",
          "text": [
            " * sqlite:///assessment.db\n",
            "Done.\n"
          ]
        },
        {
          "output_type": "execute_result",
          "data": {
            "text/plain": [
              "[('2016-01-01', 1, 'United States-CA', 100),\n",
              " ('2016-01-01', 1, 'United States-TX', 420),\n",
              " ('2016-01-01', 1, 'United States-NY', 142),\n",
              " ('2016-01-02', 1, 'United States-CA', 231),\n",
              " ('2016-01-02', 1, 'United States-TX', 2342)]"
            ],
            "text/html": [
              "<table>\n",
              "    <thead>\n",
              "        <tr>\n",
              "            <th>date</th>\n",
              "            <th>brand_id</th>\n",
              "            <th>store_location</th>\n",
              "            <th>revenue</th>\n",
              "        </tr>\n",
              "    </thead>\n",
              "    <tbody>\n",
              "        <tr>\n",
              "            <td>2016-01-01</td>\n",
              "            <td>1</td>\n",
              "            <td>United States-CA</td>\n",
              "            <td>100</td>\n",
              "        </tr>\n",
              "        <tr>\n",
              "            <td>2016-01-01</td>\n",
              "            <td>1</td>\n",
              "            <td>United States-TX</td>\n",
              "            <td>420</td>\n",
              "        </tr>\n",
              "        <tr>\n",
              "            <td>2016-01-01</td>\n",
              "            <td>1</td>\n",
              "            <td>United States-NY</td>\n",
              "            <td>142</td>\n",
              "        </tr>\n",
              "        <tr>\n",
              "            <td>2016-01-02</td>\n",
              "            <td>1</td>\n",
              "            <td>United States-CA</td>\n",
              "            <td>231</td>\n",
              "        </tr>\n",
              "        <tr>\n",
              "            <td>2016-01-02</td>\n",
              "            <td>1</td>\n",
              "            <td>United States-TX</td>\n",
              "            <td>2342</td>\n",
              "        </tr>\n",
              "    </tbody>\n",
              "</table>"
            ]
          },
          "metadata": {},
          "execution_count": 10
        }
      ]
    },
    {
      "cell_type": "markdown",
      "source": [
        "Next, we noticed that the store_location in `store_revenue` is recorded differently from geo in `marketing_data`. In this case, we used common table expression and case when clause to convert the store_location into the same notation with geo."
      ],
      "metadata": {
        "id": "ElpW49f8YZef"
      }
    },
    {
      "cell_type": "code",
      "source": [
        "%%sql\n",
        "\n",
        "WITH cte AS(\n",
        "  SELECT date, brand_id, revenue, (CASE store_location \n",
        "  WHEN 'United States-CA' THEN 'CA'\n",
        "  WHEN 'United States-TX' THEN 'TX'\n",
        "  ELSE 'NY'\n",
        "  END) AS geo\n",
        "  FROM store_revenue\n",
        ")\n",
        "\n",
        "SELECT * FROM cte LIMIT 5"
      ],
      "metadata": {
        "colab": {
          "base_uri": "https://localhost:8080/",
          "height": 183
        },
        "id": "-Mg_YLP_Z0Su",
        "outputId": "238798e5-ae24-480b-9bb2-4f0862663ae6"
      },
      "execution_count": 11,
      "outputs": [
        {
          "output_type": "stream",
          "name": "stdout",
          "text": [
            " * sqlite:///assessment.db\n",
            "Done.\n"
          ]
        },
        {
          "output_type": "execute_result",
          "data": {
            "text/plain": [
              "[('2016-01-01', 1, 100, 'CA'),\n",
              " ('2016-01-01', 1, 420, 'TX'),\n",
              " ('2016-01-01', 1, 142, 'NY'),\n",
              " ('2016-01-02', 1, 231, 'CA'),\n",
              " ('2016-01-02', 1, 2342, 'TX')]"
            ],
            "text/html": [
              "<table>\n",
              "    <thead>\n",
              "        <tr>\n",
              "            <th>date</th>\n",
              "            <th>brand_id</th>\n",
              "            <th>revenue</th>\n",
              "            <th>geo</th>\n",
              "        </tr>\n",
              "    </thead>\n",
              "    <tbody>\n",
              "        <tr>\n",
              "            <td>2016-01-01</td>\n",
              "            <td>1</td>\n",
              "            <td>100</td>\n",
              "            <td>CA</td>\n",
              "        </tr>\n",
              "        <tr>\n",
              "            <td>2016-01-01</td>\n",
              "            <td>1</td>\n",
              "            <td>420</td>\n",
              "            <td>TX</td>\n",
              "        </tr>\n",
              "        <tr>\n",
              "            <td>2016-01-01</td>\n",
              "            <td>1</td>\n",
              "            <td>142</td>\n",
              "            <td>NY</td>\n",
              "        </tr>\n",
              "        <tr>\n",
              "            <td>2016-01-02</td>\n",
              "            <td>1</td>\n",
              "            <td>231</td>\n",
              "            <td>CA</td>\n",
              "        </tr>\n",
              "        <tr>\n",
              "            <td>2016-01-02</td>\n",
              "            <td>1</td>\n",
              "            <td>2342</td>\n",
              "            <td>TX</td>\n",
              "        </tr>\n",
              "    </tbody>\n",
              "</table>"
            ]
          },
          "metadata": {},
          "execution_count": 11
        }
      ]
    },
    {
      "cell_type": "markdown",
      "source": [
        "Then, since we want to ensure all records from each table are included, we would like to use full outer join. However, full outer join and right join are not currently supported in sqlite. Therefore, we used union and left join."
      ],
      "metadata": {
        "id": "h7Fl_IWNZbLX"
      }
    },
    {
      "cell_type": "code",
      "source": [
        "%%sql\n",
        "\n",
        "WITH cte AS(\n",
        "  SELECT date, brand_id, revenue, (CASE store_location \n",
        "  WHEN 'United States-CA' THEN 'CA'\n",
        "  WHEN 'United States-TX' THEN 'TX'\n",
        "  ELSE 'NY'\n",
        "  END) AS geo\n",
        "  FROM store_revenue\n",
        ")\n",
        "\n",
        "SELECT c.date, c.geo, brand_id, impressions, clicks, revenue\n",
        "FROM cte c\n",
        "LEFT JOIN marketing_data m\n",
        "ON c.date = m.date AND c.geo = m.geo\n",
        "\n",
        "UNION\n",
        "\n",
        "SELECT m.date, m.geo, brand_id, impressions, clicks, revenue\n",
        "FROM marketing_data m\n",
        "LEFT JOIN cte c\n",
        "ON c.date = m.date AND c.geo = m.geo"
      ],
      "metadata": {
        "colab": {
          "base_uri": "https://localhost:8080/",
          "height": 845
        },
        "id": "cT0W8-qsCLuH",
        "outputId": "e139c207-608e-4fbf-87f7-6d2ab4055b49"
      },
      "execution_count": 12,
      "outputs": [
        {
          "output_type": "stream",
          "name": "stdout",
          "text": [
            " * sqlite:///assessment.db\n",
            "Done.\n"
          ]
        },
        {
          "output_type": "execute_result",
          "data": {
            "text/plain": [
              "[('2016-01-01', 'CA', 1, 3425, 63, 100),\n",
              " ('2016-01-01', 'CA', 2, 3425, 63, 234),\n",
              " ('2016-01-01', 'MN', None, 1342, 784, None),\n",
              " ('2016-01-01', 'NY', 1, 3532, 25, 142),\n",
              " ('2016-01-01', 'NY', 2, 3532, 25, 142),\n",
              " ('2016-01-01', 'TX', 1, 2532, 45, 420),\n",
              " ('2016-01-01', 'TX', 2, 2532, 45, 234),\n",
              " ('2016-01-02', 'CA', 1, 1354, 53, 231),\n",
              " ('2016-01-02', 'CA', 2, 1354, 53, 234),\n",
              " ('2016-01-02', 'MN', None, 2366, 85, None),\n",
              " ('2016-01-02', 'NY', 1, 4643, 85, 232),\n",
              " ('2016-01-02', 'NY', 2, 4643, 85, 2342),\n",
              " ('2016-01-02', 'TX', 1, 3643, 23, 2342),\n",
              " ('2016-01-02', 'TX', 2, 3643, 23, 3423),\n",
              " ('2016-01-03', 'CA', 1, 5258, 36, 100),\n",
              " ('2016-01-03', 'CA', 2, 5258, 36, 234234),\n",
              " ('2016-01-03', 'MN', None, 5783, 87, None),\n",
              " ('2016-01-03', 'NY', 1, 4735, 63, 3245),\n",
              " ('2016-01-03', 'NY', 2, 4735, 63, 234),\n",
              " ('2016-01-03', 'TX', 1, 2353, 57, 420),\n",
              " ('2016-01-03', 'TX', 2, 2353, 57, 3),\n",
              " ('2016-01-04', 'CA', 1, 7854, 85, 34),\n",
              " ('2016-01-04', 'CA', 2, 7854, 85, 2),\n",
              " ('2016-01-04', 'MN', None, 9345, 24, None),\n",
              " ('2016-01-04', 'NY', 1, 4754, 36, 54),\n",
              " ('2016-01-04', 'NY', 2, 4754, 36, 45235),\n",
              " ('2016-01-04', 'TX', 1, 5783, 47, 3),\n",
              " ('2016-01-04', 'TX', 2, 5783, 47, 2354),\n",
              " ('2016-01-05', 'CA', 1, 4678, 73, 45),\n",
              " ('2016-01-05', 'CA', 2, 4678, 73, 23),\n",
              " ('2016-01-05', 'MN', None, 3452, 25, None),\n",
              " ('2016-01-05', 'NY', 1, 2364, 33, 234),\n",
              " ('2016-01-05', 'NY', 2, 2364, 33, 124),\n",
              " ('2016-01-05', 'TX', 1, 2535, 63, 423),\n",
              " ('2016-01-05', 'TX', 2, 2535, 63, 4),\n",
              " ('2016-01-06', 'TX', 3, None, None, 3)]"
            ],
            "text/html": [
              "<table>\n",
              "    <thead>\n",
              "        <tr>\n",
              "            <th>date</th>\n",
              "            <th>geo</th>\n",
              "            <th>brand_id</th>\n",
              "            <th>impressions</th>\n",
              "            <th>clicks</th>\n",
              "            <th>revenue</th>\n",
              "        </tr>\n",
              "    </thead>\n",
              "    <tbody>\n",
              "        <tr>\n",
              "            <td>2016-01-01</td>\n",
              "            <td>CA</td>\n",
              "            <td>1</td>\n",
              "            <td>3425</td>\n",
              "            <td>63</td>\n",
              "            <td>100</td>\n",
              "        </tr>\n",
              "        <tr>\n",
              "            <td>2016-01-01</td>\n",
              "            <td>CA</td>\n",
              "            <td>2</td>\n",
              "            <td>3425</td>\n",
              "            <td>63</td>\n",
              "            <td>234</td>\n",
              "        </tr>\n",
              "        <tr>\n",
              "            <td>2016-01-01</td>\n",
              "            <td>MN</td>\n",
              "            <td>None</td>\n",
              "            <td>1342</td>\n",
              "            <td>784</td>\n",
              "            <td>None</td>\n",
              "        </tr>\n",
              "        <tr>\n",
              "            <td>2016-01-01</td>\n",
              "            <td>NY</td>\n",
              "            <td>1</td>\n",
              "            <td>3532</td>\n",
              "            <td>25</td>\n",
              "            <td>142</td>\n",
              "        </tr>\n",
              "        <tr>\n",
              "            <td>2016-01-01</td>\n",
              "            <td>NY</td>\n",
              "            <td>2</td>\n",
              "            <td>3532</td>\n",
              "            <td>25</td>\n",
              "            <td>142</td>\n",
              "        </tr>\n",
              "        <tr>\n",
              "            <td>2016-01-01</td>\n",
              "            <td>TX</td>\n",
              "            <td>1</td>\n",
              "            <td>2532</td>\n",
              "            <td>45</td>\n",
              "            <td>420</td>\n",
              "        </tr>\n",
              "        <tr>\n",
              "            <td>2016-01-01</td>\n",
              "            <td>TX</td>\n",
              "            <td>2</td>\n",
              "            <td>2532</td>\n",
              "            <td>45</td>\n",
              "            <td>234</td>\n",
              "        </tr>\n",
              "        <tr>\n",
              "            <td>2016-01-02</td>\n",
              "            <td>CA</td>\n",
              "            <td>1</td>\n",
              "            <td>1354</td>\n",
              "            <td>53</td>\n",
              "            <td>231</td>\n",
              "        </tr>\n",
              "        <tr>\n",
              "            <td>2016-01-02</td>\n",
              "            <td>CA</td>\n",
              "            <td>2</td>\n",
              "            <td>1354</td>\n",
              "            <td>53</td>\n",
              "            <td>234</td>\n",
              "        </tr>\n",
              "        <tr>\n",
              "            <td>2016-01-02</td>\n",
              "            <td>MN</td>\n",
              "            <td>None</td>\n",
              "            <td>2366</td>\n",
              "            <td>85</td>\n",
              "            <td>None</td>\n",
              "        </tr>\n",
              "        <tr>\n",
              "            <td>2016-01-02</td>\n",
              "            <td>NY</td>\n",
              "            <td>1</td>\n",
              "            <td>4643</td>\n",
              "            <td>85</td>\n",
              "            <td>232</td>\n",
              "        </tr>\n",
              "        <tr>\n",
              "            <td>2016-01-02</td>\n",
              "            <td>NY</td>\n",
              "            <td>2</td>\n",
              "            <td>4643</td>\n",
              "            <td>85</td>\n",
              "            <td>2342</td>\n",
              "        </tr>\n",
              "        <tr>\n",
              "            <td>2016-01-02</td>\n",
              "            <td>TX</td>\n",
              "            <td>1</td>\n",
              "            <td>3643</td>\n",
              "            <td>23</td>\n",
              "            <td>2342</td>\n",
              "        </tr>\n",
              "        <tr>\n",
              "            <td>2016-01-02</td>\n",
              "            <td>TX</td>\n",
              "            <td>2</td>\n",
              "            <td>3643</td>\n",
              "            <td>23</td>\n",
              "            <td>3423</td>\n",
              "        </tr>\n",
              "        <tr>\n",
              "            <td>2016-01-03</td>\n",
              "            <td>CA</td>\n",
              "            <td>1</td>\n",
              "            <td>5258</td>\n",
              "            <td>36</td>\n",
              "            <td>100</td>\n",
              "        </tr>\n",
              "        <tr>\n",
              "            <td>2016-01-03</td>\n",
              "            <td>CA</td>\n",
              "            <td>2</td>\n",
              "            <td>5258</td>\n",
              "            <td>36</td>\n",
              "            <td>234234</td>\n",
              "        </tr>\n",
              "        <tr>\n",
              "            <td>2016-01-03</td>\n",
              "            <td>MN</td>\n",
              "            <td>None</td>\n",
              "            <td>5783</td>\n",
              "            <td>87</td>\n",
              "            <td>None</td>\n",
              "        </tr>\n",
              "        <tr>\n",
              "            <td>2016-01-03</td>\n",
              "            <td>NY</td>\n",
              "            <td>1</td>\n",
              "            <td>4735</td>\n",
              "            <td>63</td>\n",
              "            <td>3245</td>\n",
              "        </tr>\n",
              "        <tr>\n",
              "            <td>2016-01-03</td>\n",
              "            <td>NY</td>\n",
              "            <td>2</td>\n",
              "            <td>4735</td>\n",
              "            <td>63</td>\n",
              "            <td>234</td>\n",
              "        </tr>\n",
              "        <tr>\n",
              "            <td>2016-01-03</td>\n",
              "            <td>TX</td>\n",
              "            <td>1</td>\n",
              "            <td>2353</td>\n",
              "            <td>57</td>\n",
              "            <td>420</td>\n",
              "        </tr>\n",
              "        <tr>\n",
              "            <td>2016-01-03</td>\n",
              "            <td>TX</td>\n",
              "            <td>2</td>\n",
              "            <td>2353</td>\n",
              "            <td>57</td>\n",
              "            <td>3</td>\n",
              "        </tr>\n",
              "        <tr>\n",
              "            <td>2016-01-04</td>\n",
              "            <td>CA</td>\n",
              "            <td>1</td>\n",
              "            <td>7854</td>\n",
              "            <td>85</td>\n",
              "            <td>34</td>\n",
              "        </tr>\n",
              "        <tr>\n",
              "            <td>2016-01-04</td>\n",
              "            <td>CA</td>\n",
              "            <td>2</td>\n",
              "            <td>7854</td>\n",
              "            <td>85</td>\n",
              "            <td>2</td>\n",
              "        </tr>\n",
              "        <tr>\n",
              "            <td>2016-01-04</td>\n",
              "            <td>MN</td>\n",
              "            <td>None</td>\n",
              "            <td>9345</td>\n",
              "            <td>24</td>\n",
              "            <td>None</td>\n",
              "        </tr>\n",
              "        <tr>\n",
              "            <td>2016-01-04</td>\n",
              "            <td>NY</td>\n",
              "            <td>1</td>\n",
              "            <td>4754</td>\n",
              "            <td>36</td>\n",
              "            <td>54</td>\n",
              "        </tr>\n",
              "        <tr>\n",
              "            <td>2016-01-04</td>\n",
              "            <td>NY</td>\n",
              "            <td>2</td>\n",
              "            <td>4754</td>\n",
              "            <td>36</td>\n",
              "            <td>45235</td>\n",
              "        </tr>\n",
              "        <tr>\n",
              "            <td>2016-01-04</td>\n",
              "            <td>TX</td>\n",
              "            <td>1</td>\n",
              "            <td>5783</td>\n",
              "            <td>47</td>\n",
              "            <td>3</td>\n",
              "        </tr>\n",
              "        <tr>\n",
              "            <td>2016-01-04</td>\n",
              "            <td>TX</td>\n",
              "            <td>2</td>\n",
              "            <td>5783</td>\n",
              "            <td>47</td>\n",
              "            <td>2354</td>\n",
              "        </tr>\n",
              "        <tr>\n",
              "            <td>2016-01-05</td>\n",
              "            <td>CA</td>\n",
              "            <td>1</td>\n",
              "            <td>4678</td>\n",
              "            <td>73</td>\n",
              "            <td>45</td>\n",
              "        </tr>\n",
              "        <tr>\n",
              "            <td>2016-01-05</td>\n",
              "            <td>CA</td>\n",
              "            <td>2</td>\n",
              "            <td>4678</td>\n",
              "            <td>73</td>\n",
              "            <td>23</td>\n",
              "        </tr>\n",
              "        <tr>\n",
              "            <td>2016-01-05</td>\n",
              "            <td>MN</td>\n",
              "            <td>None</td>\n",
              "            <td>3452</td>\n",
              "            <td>25</td>\n",
              "            <td>None</td>\n",
              "        </tr>\n",
              "        <tr>\n",
              "            <td>2016-01-05</td>\n",
              "            <td>NY</td>\n",
              "            <td>1</td>\n",
              "            <td>2364</td>\n",
              "            <td>33</td>\n",
              "            <td>234</td>\n",
              "        </tr>\n",
              "        <tr>\n",
              "            <td>2016-01-05</td>\n",
              "            <td>NY</td>\n",
              "            <td>2</td>\n",
              "            <td>2364</td>\n",
              "            <td>33</td>\n",
              "            <td>124</td>\n",
              "        </tr>\n",
              "        <tr>\n",
              "            <td>2016-01-05</td>\n",
              "            <td>TX</td>\n",
              "            <td>1</td>\n",
              "            <td>2535</td>\n",
              "            <td>63</td>\n",
              "            <td>423</td>\n",
              "        </tr>\n",
              "        <tr>\n",
              "            <td>2016-01-05</td>\n",
              "            <td>TX</td>\n",
              "            <td>2</td>\n",
              "            <td>2535</td>\n",
              "            <td>63</td>\n",
              "            <td>4</td>\n",
              "        </tr>\n",
              "        <tr>\n",
              "            <td>2016-01-06</td>\n",
              "            <td>TX</td>\n",
              "            <td>3</td>\n",
              "            <td>None</td>\n",
              "            <td>None</td>\n",
              "            <td>3</td>\n",
              "        </tr>\n",
              "    </tbody>\n",
              "</table>"
            ]
          },
          "metadata": {},
          "execution_count": 12
        }
      ]
    },
    {
      "cell_type": "markdown",
      "source": [
        "## Question 4\n",
        "In your opinion, what is the most efficient store and why?​"
      ],
      "metadata": {
        "id": "1kZeMTMwKJAg"
      }
    },
    {
      "cell_type": "markdown",
      "source": [
        "Suppose we are business owners, it is reasonable that we care about the profit those stores can make. The profit depends on the revenue and the expense(for example, employees' salaries), where profit = revenue - expense. If the store can make the most profit in a certain period of time, then we consider it the most efficient store."
      ],
      "metadata": {
        "id": "ftdJK9u5PS1v"
      }
    },
    {
      "cell_type": "markdown",
      "source": [
        "## Question 5\n",
        "(Challenge) Generate a query to rank in order the top 10 revenue producing states​.\n",
        "\n",
        "While there will only be 3 states in the output, the SQL statement allows for the top 10 to be displayed in the hypothetical case that more states are added to the dataset in the future.\n"
      ],
      "metadata": {
        "id": "ETXmeShOK3v_"
      }
    },
    {
      "cell_type": "markdown",
      "source": [
        "We will calculate the total amount of revenue by each state. And rank them in descending order so that the state with the higher revenue comes first. Then we select the top 10 states. \n",
        "\n",
        "Since we only want to display the states, we will use common table expression again to generate a temporary table. And select only states from that temporary table."
      ],
      "metadata": {
        "id": "P31ahfOihRYm"
      }
    },
    {
      "cell_type": "code",
      "source": [
        "%%sql\n",
        "\n",
        "WITH cte AS(\n",
        "SELECT store_location, SUM(revenue) AS sum_revenue\n",
        "FROM store_revenue\n",
        "GROUP BY store_location\n",
        "ORDER BY sum_revenue DESC\n",
        "LIMIT 10\n",
        ")\n",
        "\n",
        "SELECT store_location\n",
        "FROM cte"
      ],
      "metadata": {
        "colab": {
          "base_uri": "https://localhost:8080/",
          "height": 140
        },
        "id": "3CtWzTpBflEp",
        "outputId": "fc680e6e-0048-497e-e21b-ba2da6fb8e32"
      },
      "execution_count": 13,
      "outputs": [
        {
          "output_type": "stream",
          "name": "stdout",
          "text": [
            " * sqlite:///assessment.db\n",
            "Done.\n"
          ]
        },
        {
          "output_type": "execute_result",
          "data": {
            "text/plain": [
              "[('United States-CA',), ('United States-NY',), ('United States-TX',)]"
            ],
            "text/html": [
              "<table>\n",
              "    <thead>\n",
              "        <tr>\n",
              "            <th>store_location</th>\n",
              "        </tr>\n",
              "    </thead>\n",
              "    <tbody>\n",
              "        <tr>\n",
              "            <td>United States-CA</td>\n",
              "        </tr>\n",
              "        <tr>\n",
              "            <td>United States-NY</td>\n",
              "        </tr>\n",
              "        <tr>\n",
              "            <td>United States-TX</td>\n",
              "        </tr>\n",
              "    </tbody>\n",
              "</table>"
            ]
          },
          "metadata": {},
          "execution_count": 13
        }
      ]
    }
  ]
}