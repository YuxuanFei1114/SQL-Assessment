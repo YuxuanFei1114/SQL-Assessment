{
  "nbformat": 4,
  "nbformat_minor": 0,
  "metadata": {
    "colab": {
      "provenance": []
    },
    "kernelspec": {
      "name": "python3",
      "display_name": "Python 3"
    },
    "language_info": {
      "name": "python"
    }
  },
  "cells": [
    {
      "cell_type": "markdown",
      "source": [
        "## Load Data"
      ],
      "metadata": {
        "id": "YAsKySlvJ743"
      }
    },
    {
      "cell_type": "code",
      "source": [
        "!wget https://raw.githubusercontent.com/AgencyPMG/ProgrammingChallenges/master/sql-assessment/marketing_data.csv"
      ],
      "metadata": {
        "colab": {
          "base_uri": "https://localhost:8080/"
        },
        "id": "vgmw16lKJL28",
        "outputId": "1d99f0dc-9261-4ff6-a5c6-c7d979bc22ab"
      },
      "execution_count": null,
      "outputs": [
        {
          "output_type": "stream",
          "name": "stdout",
          "text": [
            "--2022-12-14 02:30:46--  https://raw.githubusercontent.com/AgencyPMG/ProgrammingChallenges/master/sql-assessment/marketing_data.csv\n",
            "Resolving raw.githubusercontent.com (raw.githubusercontent.com)... 185.199.111.133, 185.199.110.133, 185.199.108.133, ...\n",
            "Connecting to raw.githubusercontent.com (raw.githubusercontent.com)|185.199.111.133|:443... connected.\n",
            "HTTP request sent, awaiting response... 200 OK\n",
            "Length: 655 [text/plain]\n",
            "Saving to: ‘marketing_data.csv.3’\n",
            "\n",
            "\rmarketing_data.csv.   0%[                    ]       0  --.-KB/s               \rmarketing_data.csv. 100%[===================>]     655  --.-KB/s    in 0s      \n",
            "\n",
            "2022-12-14 02:30:46 (28.4 MB/s) - ‘marketing_data.csv.3’ saved [655/655]\n",
            "\n"
          ]
        }
      ]
    },
    {
      "cell_type": "code",
      "source": [
        "!wget https://raw.githubusercontent.com/AgencyPMG/ProgrammingChallenges/master/sql-assessment/store_revenue.csv"
      ],
      "metadata": {
        "colab": {
          "base_uri": "https://localhost:8080/"
        },
        "id": "GU-lt4hrKJIG",
        "outputId": "9ca99785-ce31-45de-8318-517225210720"
      },
      "execution_count": null,
      "outputs": [
        {
          "output_type": "stream",
          "name": "stdout",
          "text": [
            "--2022-12-14 02:30:48--  https://raw.githubusercontent.com/AgencyPMG/ProgrammingChallenges/master/sql-assessment/store_revenue.csv\n",
            "Resolving raw.githubusercontent.com (raw.githubusercontent.com)... 185.199.110.133, 185.199.108.133, 185.199.109.133, ...\n",
            "Connecting to raw.githubusercontent.com (raw.githubusercontent.com)|185.199.110.133|:443... connected.\n",
            "HTTP request sent, awaiting response... 200 OK\n",
            "Length: 1372 (1.3K) [text/plain]\n",
            "Saving to: ‘store_revenue.csv.3’\n",
            "\n",
            "\rstore_revenue.csv.3   0%[                    ]       0  --.-KB/s               \rstore_revenue.csv.3 100%[===================>]   1.34K  --.-KB/s    in 0s      \n",
            "\n",
            "2022-12-14 02:30:48 (56.6 MB/s) - ‘store_revenue.csv.3’ saved [1372/1372]\n",
            "\n"
          ]
        }
      ]
    },
    {
      "cell_type": "markdown",
      "source": [
        "## Import CSV into SQLite\n",
        "\n",
        "Prior to working with the data in SQL, we will need to import it into the database. We achieve this by reading the data first into Python using `pandas` and, then, using the `.to_sql()` export handler to write the data as a table into the database."
      ],
      "metadata": {
        "id": "Xw55MFKBKUQ2"
      }
    },
    {
      "cell_type": "code",
      "source": [
        "import pandas as pd \n",
        "\n",
        "df1 = pd.read_csv(\"marketing_data.csv\")\n",
        "df2 = pd.read_csv(\"store_revenue.csv\")"
      ],
      "metadata": {
        "id": "icb1D-e2KX_E"
      },
      "execution_count": null,
      "outputs": []
    },
    {
      "cell_type": "code",
      "source": [
        "from sqlalchemy import create_engine\n",
        "engine = create_engine('sqlite:///assessment.db', echo=False)\n",
        "\n",
        "# Create the X table in the sqlite database\n",
        "df1.to_sql('marketing_data', index = False, if_exists = 'replace', con=engine)\n",
        "\n",
        "# Create the Y table in the sqlite database\n",
        "df2.to_sql('store_revenue', index = False, if_exists = 'replace', con=engine)"
      ],
      "metadata": {
        "id": "lTrtAm4qaz-M"
      },
      "execution_count": null,
      "outputs": []
    },
    {
      "cell_type": "code",
      "source": [
        "%load_ext sql\n",
        "%sql sqlite:///assessment.db"
      ],
      "metadata": {
        "colab": {
          "base_uri": "https://localhost:8080/",
          "height": 35
        },
        "id": "ayTdHtYyWfNA",
        "outputId": "5dfbeaa7-0da2-4513-82a8-b33c6c2cf3e6"
      },
      "execution_count": null,
      "outputs": [
        {
          "output_type": "execute_result",
          "data": {
            "text/plain": [
              "'Connected: @assessment.db'"
            ],
            "application/vnd.google.colaboratory.intrinsic+json": {
              "type": "string"
            }
          },
          "metadata": {},
          "execution_count": 5
        }
      ]
    },
    {
      "cell_type": "markdown",
      "source": [
        "## Question 0\n",
        "(Already done for you as an example) Select the first 2 rows from the marketing data​"
      ],
      "metadata": {
        "id": "0PcXZ90hW5Dt"
      }
    },
    {
      "cell_type": "code",
      "source": [
        "%%sql\n",
        "\n",
        "select * from marketing_data limit 2;"
      ],
      "metadata": {
        "colab": {
          "base_uri": "https://localhost:8080/",
          "height": 119
        },
        "id": "uSBF0FWHXDDS",
        "outputId": "31546659-697f-4a6a-fef2-d216bc0a0c5c"
      },
      "execution_count": null,
      "outputs": [
        {
          "output_type": "stream",
          "name": "stdout",
          "text": [
            " * sqlite:///assessment.db\n",
            "Done.\n"
          ]
        },
        {
          "output_type": "execute_result",
          "data": {
            "text/plain": [
              "[('2016-01-01', 'TX', 2532, 45), ('2016-01-01', 'CA', 3425, 63)]"
            ],
            "text/html": [
              "<table>\n",
              "    <thead>\n",
              "        <tr>\n",
              "            <th>date</th>\n",
              "            <th>geo</th>\n",
              "            <th>impressions</th>\n",
              "            <th>clicks</th>\n",
              "        </tr>\n",
              "    </thead>\n",
              "    <tbody>\n",
              "        <tr>\n",
              "            <td>2016-01-01</td>\n",
              "            <td>TX</td>\n",
              "            <td>2532</td>\n",
              "            <td>45</td>\n",
              "        </tr>\n",
              "        <tr>\n",
              "            <td>2016-01-01</td>\n",
              "            <td>CA</td>\n",
              "            <td>3425</td>\n",
              "            <td>63</td>\n",
              "        </tr>\n",
              "    </tbody>\n",
              "</table>"
            ]
          },
          "metadata": {},
          "execution_count": 7
        }
      ]
    },
    {
      "cell_type": "markdown",
      "source": [
        "## Question 1\n",
        "\n",
        "Generate a query to get the sum of the clicks of the marketing data​"
      ],
      "metadata": {
        "id": "IypPXSaseRaw"
      }
    },
    {
      "cell_type": "code",
      "source": [
        "%%sql\n",
        "\n",
        "select sum(clicks) AS sum_click\n",
        "from marketing_data"
      ],
      "metadata": {
        "colab": {
          "base_uri": "https://localhost:8080/",
          "height": 98
        },
        "id": "-JNzmt8GeNJ6",
        "outputId": "ee4f978a-70f0-4048-c584-ac19c7402d60"
      },
      "execution_count": null,
      "outputs": [
        {
          "output_type": "stream",
          "name": "stdout",
          "text": [
            " * sqlite:///assessment.db\n",
            "Done.\n"
          ]
        },
        {
          "output_type": "execute_result",
          "data": {
            "text/plain": [
              "[(1792,)]"
            ],
            "text/html": [
              "<table>\n",
              "    <thead>\n",
              "        <tr>\n",
              "            <th>sum_click</th>\n",
              "        </tr>\n",
              "    </thead>\n",
              "    <tbody>\n",
              "        <tr>\n",
              "            <td>1792</td>\n",
              "        </tr>\n",
              "    </tbody>\n",
              "</table>"
            ]
          },
          "metadata": {},
          "execution_count": 8
        }
      ]
    }
  ]
}